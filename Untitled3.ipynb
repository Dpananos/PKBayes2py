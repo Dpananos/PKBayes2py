{
 "cells": [
  {
   "cell_type": "code",
   "execution_count": 5,
   "id": "027814bc",
   "metadata": {},
   "outputs": [
    {
     "data": {
      "text/plain": [
       "{'mean_mu_cl': 0.500426546,\n",
       " 'sd_mu_cl': 0.04458554601080808,\n",
       " 'mean_mu_tmax': 0.9299777149166666,\n",
       " 'sd_mu_tmax': 0.0484382329034047,\n",
       " 'mean_mu_alpha': -1.3528253995000001,\n",
       " 'sd_mu_alpha': 0.12837583022358634,\n",
       " 'mean_beta_cl_1': 0.39212306936666663,\n",
       " 'sd_beta_cl_1': 0.07521600489964739,\n",
       " 'mean_beta_cl_2': 0.19485402324999998,\n",
       " 'sd_beta_cl_2': 0.03698646681004564,\n",
       " 'mean_beta_cl_3': 0.022724511478128335,\n",
       " 'sd_beta_cl_3': 0.03680759924493446,\n",
       " 'mean_beta_cl_4': 0.00832580310995,\n",
       " 'sd_beta_cl_4': 0.0368842428675464,\n",
       " 'mean_beta_t_1': -0.012480250197886667,\n",
       " 'sd_beta_t_1': 0.08341764834128719,\n",
       " 'mean_beta_t_2': 0.09273229418597669,\n",
       " 'sd_beta_t_2': 0.04531758185463989,\n",
       " 'mean_beta_t_3': -0.052163096769566666,\n",
       " 'sd_beta_t_3': 0.04397127972137719,\n",
       " 'mean_beta_t_4': -0.008264184075129166,\n",
       " 'sd_beta_t_4': 0.04429043979056002,\n",
       " 'mean_beta_a_1': -0.19383686993004168,\n",
       " 'sd_beta_a_1': 0.169849082993791,\n",
       " 'mean_beta_a_2': 0.3250153933522916,\n",
       " 'sd_beta_a_2': 0.11382397314991997,\n",
       " 'mean_beta_a_3': -0.0577094735959,\n",
       " 'sd_beta_a_3': 0.10002382502016162,\n",
       " 'mean_beta_a_4': -0.08730967689157501,\n",
       " 'sd_beta_a_4': 0.09690976156089451,\n",
       " 'shape_s_cl': 69.14827269182847,\n",
       " 'rate_s_cl': 338.3123774682999,\n",
       " 'shape_s_t': 74.96256954707523,\n",
       " 'rate_s_t': 349.55946906024104,\n",
       " 'shape_s_alpha': 10.09573519037894,\n",
       " 'rate_s_alpha': 102.06600349970051,\n",
       " 'shape_sigma': 356.50604611688914,\n",
       " 'rate_sigma': 2091.1754480282416,\n",
       " 'weight_mean': 88.02777777777777,\n",
       " 'age_mean': 49.833333333333336,\n",
       " 'creatinine_mean': 68.02857142857142,\n",
       " 'weight_sd': 24.351915279455493,\n",
       " 'age_sd': 11.50279469147762,\n",
       " 'creatinine_sd': 12.459043105392999}"
      ]
     },
     "execution_count": 5,
     "metadata": {},
     "output_type": "execute_result"
    }
   ],
   "source": [
    "import pickle\n",
    "\n",
    "with open('data/generated_data/param_summary.pkl', 'rb') as file:\n",
    "    x = pickle.load(file)\n",
    "\n",
    "x"
   ]
  },
  {
   "cell_type": "code",
   "execution_count": null,
   "id": "276cbfe0",
   "metadata": {},
   "outputs": [],
   "source": [
    ")"
   ]
  },
  {
   "cell_type": "code",
   "execution_count": null,
   "id": "8888502e",
   "metadata": {},
   "outputs": [],
   "source": []
  }
 ],
 "metadata": {
  "kernelspec": {
   "display_name": "Python 3",
   "language": "python",
   "name": "python3"
  },
  "language_info": {
   "codemirror_mode": {
    "name": "ipython",
    "version": 3
   },
   "file_extension": ".py",
   "mimetype": "text/x-python",
   "name": "python",
   "nbconvert_exporter": "python",
   "pygments_lexer": "ipython3",
   "version": "3.8.8"
  }
 },
 "nbformat": 4,
 "nbformat_minor": 5
}
